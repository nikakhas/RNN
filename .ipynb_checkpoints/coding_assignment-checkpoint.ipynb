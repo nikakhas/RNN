{
 "cells": [
  {
   "cell_type": "code",
   "execution_count": null,
   "metadata": {
    "execution": {
     "iopub.execute_input": "2022-01-22T15:55:51.161763Z",
     "iopub.status.busy": "2022-01-22T15:55:51.161511Z",
     "iopub.status.idle": "2022-01-22T15:55:51.165623Z",
     "shell.execute_reply": "2022-01-22T15:55:51.164626Z",
     "shell.execute_reply.started": "2022-01-22T15:55:51.161734Z"
    }
   },
   "outputs": [],
   "source": [
    "import numpy as np\n",
    "import pandas as pd\n",
    "import torch\n",
    "import torch.nn.functional as F\n",
    "import torchtext\n",
    "import time\n",
    "import random\n",
    "import pandas as pd\n",
    "import spacy"
   ]
  },
  {
   "cell_type": "code",
   "execution_count": null,
   "metadata": {},
   "outputs": [],
   "source": [
    "pip install spacy\n"
   ]
  },
  {
   "cell_type": "markdown",
   "metadata": {},
   "source": [
    "# Import Required Libraries & Data Loading"
   ]
  },
  {
   "cell_type": "code",
   "execution_count": null,
   "metadata": {
    "execution": {
     "iopub.execute_input": "2022-01-22T15:55:51.178773Z",
     "iopub.status.busy": "2022-01-22T15:55:51.178323Z",
     "iopub.status.idle": "2022-01-22T15:55:52.913605Z",
     "shell.execute_reply": "2022-01-22T15:55:52.912893Z",
     "shell.execute_reply.started": "2022-01-22T15:55:51.178736Z"
    }
   },
   "outputs": [],
   "source": [
    "#importing the training data\n",
    "df=pd.read_csv('IMDB Dataset.csv')\n",
    "print(df.shape)\n",
    "df.head(10)"
   ]
  },
  {
   "cell_type": "markdown",
   "metadata": {},
   "source": [
    "# Data Preparation"
   ]
  },
  {
   "cell_type": "code",
   "execution_count": null,
   "metadata": {
    "execution": {
     "iopub.execute_input": "2022-01-22T15:55:52.915240Z",
     "iopub.status.busy": "2022-01-22T15:55:52.914817Z",
     "iopub.status.idle": "2022-01-22T15:55:52.931074Z",
     "shell.execute_reply": "2022-01-22T15:55:52.930198Z",
     "shell.execute_reply.started": "2022-01-22T15:55:52.915202Z"
    }
   },
   "outputs": [],
   "source": [
    "\"\"\"\n",
    "sentiment : 0 = negative, 1 = positive \n",
    "use the following to get the sentiment of a sentence :  \n",
    "sentiment = 0 if sentiment is negative else 1\n",
    "\n",
    "\n",
    "use np.where to get the sentiment of a sentence :\n",
    "\"\"\"\n",
    "df['sentiment'] = np.where(df['sentiment'] == 'positive', 1, 0)"
   ]
  },
  {
   "cell_type": "code",
   "execution_count": null,
   "metadata": {
    "execution": {
     "iopub.execute_input": "2022-01-22T15:55:52.933556Z",
     "iopub.status.busy": "2022-01-22T15:55:52.933295Z",
     "iopub.status.idle": "2022-01-22T15:55:52.942961Z",
     "shell.execute_reply": "2022-01-22T15:55:52.942162Z",
     "shell.execute_reply.started": "2022-01-22T15:55:52.933524Z"
    }
   },
   "outputs": [],
   "source": [
    "df.head()"
   ]
  },
  {
   "cell_type": "code",
   "execution_count": null,
   "metadata": {
    "execution": {
     "iopub.execute_input": "2022-01-22T15:55:52.944777Z",
     "iopub.status.busy": "2022-01-22T15:55:52.944484Z",
     "iopub.status.idle": "2022-01-22T15:55:52.951178Z",
     "shell.execute_reply": "2022-01-22T15:55:52.950461Z",
     "shell.execute_reply.started": "2022-01-22T15:55:52.944743Z"
    }
   },
   "outputs": [],
   "source": [
    "df.columns = ['TEXT_COLUMN_NAME', 'LABEL_COLUMN_NAME']"
   ]
  },
  {
   "cell_type": "code",
   "execution_count": null,
   "metadata": {
    "execution": {
     "iopub.execute_input": "2022-01-22T15:55:52.953080Z",
     "iopub.status.busy": "2022-01-22T15:55:52.952741Z",
     "iopub.status.idle": "2022-01-22T15:55:53.553818Z",
     "shell.execute_reply": "2022-01-22T15:55:53.553120Z",
     "shell.execute_reply.started": "2022-01-22T15:55:52.952969Z"
    }
   },
   "outputs": [],
   "source": [
    "\"\"\"\n",
    "Load the spacy model and load the English language model from https://spacy.io/usage/models\n",
    "\"\"\"\n",
    "spacy.### ADD YOUR SPACY MODEL HERE ###"
   ]
  },
  {
   "cell_type": "code",
   "execution_count": null,
   "metadata": {
    "execution": {
     "iopub.execute_input": "2022-01-22T15:55:53.629426Z",
     "iopub.status.busy": "2022-01-22T15:55:53.629143Z",
     "iopub.status.idle": "2022-01-22T15:55:53.637675Z",
     "shell.execute_reply": "2022-01-22T15:55:53.636930Z",
     "shell.execute_reply.started": "2022-01-22T15:55:53.629373Z"
    }
   },
   "outputs": [],
   "source": [
    "# general Settings\n",
    "\n",
    "RANDOM_SEED = 123\n",
    "torch.manual_seed(RANDOM_SEED)\n",
    "\n",
    "VOCABULARY_SIZE = 20000\n",
    "LEARNING_RATE = ### ADD YOUR LEARNING RATE HERE ###\n",
    "BATCH_SIZE = ### ADD YOUR BATCH SIZE HERE ###\n",
    "NUM_EPOCHS = ### ADD YOUR NUMBER OF EPOCHS HERE ###\n",
    "DEVICE = torch.device('cuda' if torch.cuda.is_available() else 'cpu')\n",
    "\n",
    "EMBEDDING_DIM = ### ADD YOUR EMBEDDING DIMENSION HERE ###\n",
    "HIDDEN_DIM = ### ADD YOUR HIDDEN DIMENSION HERE ###\n",
    "NUM_CLASSES = 2"
   ]
  },
  {
   "cell_type": "markdown",
   "metadata": {},
   "source": [
    "# Text & label Preparation"
   ]
  },
  {
   "cell_type": "code",
   "execution_count": null,
   "metadata": {
    "execution": {
     "iopub.execute_input": "2022-01-22T15:55:53.639530Z",
     "iopub.status.busy": "2022-01-22T15:55:53.639045Z",
     "iopub.status.idle": "2022-01-22T15:55:54.191068Z",
     "shell.execute_reply": "2022-01-22T15:55:54.190361Z",
     "shell.execute_reply.started": "2022-01-22T15:55:53.639494Z"
    }
   },
   "outputs": [],
   "source": [
    "# Define feature processing\n",
    "\"\"\"\n",
    "Define the fields for the data.\n",
    "\"\"\"\n",
    "TEXT = torchtext.legacy.data.Field(tokenize = 'spacy', tokenizer_language = 'en_core_web_sm')"
   ]
  },
  {
   "cell_type": "code",
   "execution_count": null,
   "metadata": {
    "execution": {
     "iopub.execute_input": "2022-01-22T15:55:54.194504Z",
     "iopub.status.busy": "2022-01-22T15:55:54.194231Z",
     "iopub.status.idle": "2022-01-22T15:55:54.198370Z",
     "shell.execute_reply": "2022-01-22T15:55:54.197471Z",
     "shell.execute_reply.started": "2022-01-22T15:55:54.194470Z"
    }
   },
   "outputs": [],
   "source": [
    "# Define Label processing\n",
    "LABEL = torchtext.legacy.data.LabelField(dtype = torch.long)"
   ]
  },
  {
   "cell_type": "code",
   "execution_count": null,
   "metadata": {
    "execution": {
     "iopub.execute_input": "2022-01-22T15:55:54.200276Z",
     "iopub.status.busy": "2022-01-22T15:55:54.199959Z",
     "iopub.status.idle": "2022-01-22T15:55:57.099915Z",
     "shell.execute_reply": "2022-01-22T15:55:57.099168Z",
     "shell.execute_reply.started": "2022-01-22T15:55:54.200243Z"
    }
   },
   "outputs": [],
   "source": [
    "\"\"\"\n",
    "Define the fields for the data.\n",
    "\"\"\"\n",
    "\n",
    "df.to_csv('moviedata.csv', index = None)\n",
    "df = pd.read_csv('moviedata.csv')\n",
    "df.head()"
   ]
  },
  {
   "cell_type": "code",
   "execution_count": null,
   "metadata": {
    "execution": {
     "iopub.execute_input": "2022-01-22T15:55:57.102513Z",
     "iopub.status.busy": "2022-01-22T15:55:57.102056Z",
     "iopub.status.idle": "2022-01-22T15:56:41.889075Z",
     "shell.execute_reply": "2022-01-22T15:56:41.888358Z",
     "shell.execute_reply.started": "2022-01-22T15:55:57.102470Z"
    }
   },
   "outputs": [],
   "source": [
    "# process the dataset\n",
    "\n",
    "fields = [('TEXT_COLUMN_NAME', TEXT), ('LABEL_COLUMN_NAME', LABEL)]\n",
    "\n",
    "dataset = torchtext.legacy.data.TabularDataset(\n",
    "                    path = , ### ADD YOUR DATASET PATH HERE ###\n",
    "                    format = , ### ADD YOUR DATASET FORMAT HERE ###\n",
    "                    skip_header = , ### ADD YOUR SKIP HEADER HERE ### \n",
    "                    fields =  ### ADD YOUR FIELDS HERE ### \n",
    ")"
   ]
  },
  {
   "cell_type": "markdown",
   "metadata": {},
   "source": [
    "# Data Split"
   ]
  },
  {
   "cell_type": "code",
   "execution_count": null,
   "metadata": {
    "execution": {
     "iopub.execute_input": "2022-01-22T15:56:41.890714Z",
     "iopub.status.busy": "2022-01-22T15:56:41.890459Z",
     "iopub.status.idle": "2022-01-22T15:56:41.961168Z",
     "shell.execute_reply": "2022-01-22T15:56:41.960371Z",
     "shell.execute_reply.started": "2022-01-22T15:56:41.890680Z"
    }
   },
   "outputs": [],
   "source": [
    "# Split dataset into train and test set\n",
    "\n",
    "train_data, test_data = dataset.split(split_ratio = [0.8, 0.2], random_state = random.seed(RANDOM_SEED))\n",
    "\n",
    "print('Length of train data', len(train_data))\n",
    "print('Length of test data', len(test_data))"
   ]
  },
  {
   "cell_type": "code",
   "execution_count": null,
   "metadata": {
    "execution": {
     "iopub.execute_input": "2022-01-22T15:56:41.962867Z",
     "iopub.status.busy": "2022-01-22T15:56:41.962611Z",
     "iopub.status.idle": "2022-01-22T15:56:42.018970Z",
     "shell.execute_reply": "2022-01-22T15:56:42.017378Z",
     "shell.execute_reply.started": "2022-01-22T15:56:41.962832Z"
    }
   },
   "outputs": [],
   "source": [
    "train_data, val_data = train_data.split(split_ratio = [0.85, 0.15], random_state = random.seed(RANDOM_SEED))\n",
    "\n",
    "print('Length of train data', len(train_data))\n",
    "print('Length of valid data', len(val_data))"
   ]
  },
  {
   "cell_type": "markdown",
   "metadata": {},
   "source": [
    "# Data Observation after Tokenization"
   ]
  },
  {
   "cell_type": "code",
   "execution_count": null,
   "metadata": {
    "execution": {
     "iopub.execute_input": "2022-01-22T15:56:42.020384Z",
     "iopub.status.busy": "2022-01-22T15:56:42.020132Z",
     "iopub.status.idle": "2022-01-22T15:56:42.026208Z",
     "shell.execute_reply": "2022-01-22T15:56:42.025377Z",
     "shell.execute_reply.started": "2022-01-22T15:56:42.020349Z"
    }
   },
   "outputs": [],
   "source": [
    "# Look at first traning example\n",
    "\n",
    "print(vars(train_data.examples[2000]))"
   ]
  },
  {
   "cell_type": "code",
   "execution_count": null,
   "metadata": {
    "execution": {
     "iopub.execute_input": "2022-01-22T15:56:42.028212Z",
     "iopub.status.busy": "2022-01-22T15:56:42.027904Z",
     "iopub.status.idle": "2022-01-22T15:56:43.688300Z",
     "shell.execute_reply": "2022-01-22T15:56:43.687534Z",
     "shell.execute_reply.started": "2022-01-22T15:56:42.028178Z"
    }
   },
   "outputs": [],
   "source": [
    "# Build Vocabulary\n",
    "\n",
    "TEXT.build_vocab(train_data, max_size = VOCABULARY_SIZE)\n",
    "LABEL.build_vocab(train_data)\n",
    "\n",
    "print(f'vocabulary size: {len(TEXT.vocab)}')\n",
    "print(f'Label Size: {len(LABEL.vocab)}')"
   ]
  },
  {
   "cell_type": "markdown",
   "metadata": {},
   "source": [
    " 2 extra value in vocabulary is because added (unknown) and (padding)"
   ]
  },
  {
   "cell_type": "code",
   "execution_count": null,
   "metadata": {
    "execution": {
     "iopub.execute_input": "2022-01-22T15:56:43.690179Z",
     "iopub.status.busy": "2022-01-22T15:56:43.689727Z",
     "iopub.status.idle": "2022-01-22T15:56:43.726493Z",
     "shell.execute_reply": "2022-01-22T15:56:43.725793Z",
     "shell.execute_reply.started": "2022-01-22T15:56:43.690127Z"
    }
   },
   "outputs": [],
   "source": [
    "# Print the most common words: Use the most_common method of the TEXT vocabulary\n",
    "most_common_words = \n",
    "print(most_common_words)"
   ]
  },
  {
   "cell_type": "code",
   "execution_count": null,
   "metadata": {
    "execution": {
     "iopub.execute_input": "2022-01-22T15:56:43.727759Z",
     "iopub.status.busy": "2022-01-22T15:56:43.727533Z",
     "iopub.status.idle": "2022-01-22T15:56:43.733148Z",
     "shell.execute_reply": "2022-01-22T15:56:43.732231Z",
     "shell.execute_reply.started": "2022-01-22T15:56:43.727727Z"
    }
   },
   "outputs": [],
   "source": [
    "# Token corresponding to first 10 Indices\n",
    "\n",
    "print(TEXT.vocab.itos[:20]) #itos = Integer to string"
   ]
  },
  {
   "cell_type": "markdown",
   "metadata": {},
   "source": [
    "# Data Preparation for Batch wise Implimentation"
   ]
  },
  {
   "cell_type": "code",
   "execution_count": null,
   "metadata": {
    "execution": {
     "iopub.execute_input": "2022-01-22T15:56:43.760843Z",
     "iopub.status.busy": "2022-01-22T15:56:43.760082Z",
     "iopub.status.idle": "2022-01-22T15:56:43.766731Z",
     "shell.execute_reply": "2022-01-22T15:56:43.766017Z",
     "shell.execute_reply.started": "2022-01-22T15:56:43.760804Z"
    }
   },
   "outputs": [],
   "source": [
    "# Define Dataloader\n",
    "\n",
    "train_loader, valid_loader, test_loader = torchtext.legacy.data.BucketIterator.splits(\n",
    "        , ### ADD YOUR SPLIT DATA HERE (Make sure you add it in a tuple) ###\n",
    "        batch_size = , ### ADD YOUR BATCH SIZE HERE ###\n",
    "        sort_within_batch = , ### ADD YOUR SORT WITHIN BATCH HERE ### \n",
    "        sort_key = lambda x : len(x.TEXT_COLUMN_NAME), \n",
    "        #device = DEVICE\n",
    "    )"
   ]
  },
  {
   "cell_type": "code",
   "execution_count": null,
   "metadata": {
    "execution": {
     "iopub.execute_input": "2022-01-22T15:56:43.768827Z",
     "iopub.status.busy": "2022-01-22T15:56:43.768197Z",
     "iopub.status.idle": "2022-01-22T15:56:43.900963Z",
     "shell.execute_reply": "2022-01-22T15:56:43.900283Z",
     "shell.execute_reply.started": "2022-01-22T15:56:43.768790Z"
    }
   },
   "outputs": [],
   "source": [
    "# Testing the iterators (note that the number of rows depends on the longest document in the respective batch):\n",
    "\n",
    "print('Train')\n",
    "for batch in train_loader:\n",
    "    print(f'Text matrix size: {batch.TEXT_COLUMN_NAME.size()}')\n",
    "    print(f'Target vector size: {batch.LABEL_COLUMN_NAME.size()}')\n",
    "    break\n",
    "    \n",
    "print('\\nValid:')\n",
    "for batch in valid_loader:\n",
    "    print(f'Text matrix size: {batch.TEXT_COLUMN_NAME.size()}')\n",
    "    print(f'Target vector size: {batch.LABEL_COLUMN_NAME.size()}')\n",
    "    break\n",
    "    \n",
    "print('\\nTest:')\n",
    "for batch in test_loader:\n",
    "    print(f'Text matrix size: {batch.TEXT_COLUMN_NAME.size()}')\n",
    "    print(f'Target vector size: {batch.LABEL_COLUMN_NAME.size()}')\n",
    "    break"
   ]
  },
  {
   "cell_type": "code",
   "execution_count": null,
   "metadata": {
    "execution": {
     "iopub.execute_input": "2022-01-22T15:56:43.902778Z",
     "iopub.status.busy": "2022-01-22T15:56:43.902325Z",
     "iopub.status.idle": "2022-01-22T15:56:43.909421Z",
     "shell.execute_reply": "2022-01-22T15:56:43.908776Z",
     "shell.execute_reply.started": "2022-01-22T15:56:43.902740Z"
    }
   },
   "outputs": [],
   "source": [
    "train_loader, valid_loader, test_loader = torchtext.legacy.data.BucketIterator.splits(\n",
    "        , ### ADD YOUR SPLIT DATA HERE (Make sure you add it in a tuple) ###\n",
    "        batch_size = , ### ADD YOUR BATCH SIZE HERE ###\n",
    "        sort_within_batch = , ### ADD YOUR SORT WITHIN BATCH HERE ###\n",
    "        sort_key = lambda x : len(x.TEXT_COLUMN_NAME),\n",
    "        device = DEVICE\n",
    "    )"
   ]
  },
  {
   "cell_type": "markdown",
   "metadata": {},
   "source": [
    "# Model Building"
   ]
  },
  {
   "cell_type": "code",
   "execution_count": null,
   "metadata": {
    "execution": {
     "iopub.execute_input": "2022-01-22T15:56:43.910544Z",
     "iopub.status.busy": "2022-01-22T15:56:43.910274Z",
     "iopub.status.idle": "2022-01-22T15:56:43.920687Z",
     "shell.execute_reply": "2022-01-22T15:56:43.919977Z",
     "shell.execute_reply.started": "2022-01-22T15:56:43.910510Z"
    }
   },
   "outputs": [],
   "source": [
    "class RNN(torch.nn.Module):\n",
    "    \n",
    "    def __init__(self, input_dim, embedding_dim, hidden_dim, output_dim):\n",
    "        super().__init__()\n",
    "        ### ADD YOUR CODE HERE ###\n",
    "        \n",
    "        \n",
    "        ### END YOUR CODE ### \n",
    "\n",
    "    def forward(self, text):\n",
    "        ### ADD YOUR CODE HERE ###\n",
    "        # text dim: [sentence length, batch size]\n",
    "        \n",
    "        # embedded dim: [sentence length, batch size, embedding dim]\n",
    "        \n",
    "        # output dim: [sentence length, batch size, hidden dim]\n",
    "        # hidden dim: [1, batch size, hidden dim]\n",
    "\n",
    "        # hidden dim: [batch size, hidden dim]\n",
    "\n",
    "        \n",
    "        ### END YOUR CODE ###\n",
    "        return output"
   ]
  },
  {
   "cell_type": "code",
   "execution_count": null,
   "metadata": {
    "execution": {
     "iopub.execute_input": "2022-01-22T15:56:43.922337Z",
     "iopub.status.busy": "2022-01-22T15:56:43.921742Z",
     "iopub.status.idle": "2022-01-22T15:56:51.579010Z",
     "shell.execute_reply": "2022-01-22T15:56:51.578073Z",
     "shell.execute_reply.started": "2022-01-22T15:56:43.922287Z"
    }
   },
   "outputs": [],
   "source": [
    "torch.manual_seed(RANDOM_SEED)\n",
    "model = RNN(input_dim=, ### ADD YOUR INPUT DIM HERE. This can be the length of your vocabulary or the embedding dim ###\n",
    "            embedding_dim=, ### ADD YOUR EMBEDDING DIM HERE ###\n",
    "            hidden_dim=, ### ADD YOUR HIDDEN DIM HERE ###\n",
    "            output_dim=  ### ADD NUMBER OF CLASSES HERE ###\n",
    ")\n",
    "\n",
    "model = model.to(DEVICE)\n",
    "optimizer = ### ADD YOUR OPTIMIZER HERE ###"
   ]
  },
  {
   "cell_type": "markdown",
   "metadata": {},
   "source": [
    "# Define Accuracy"
   ]
  },
  {
   "cell_type": "code",
   "execution_count": null,
   "metadata": {
    "execution": {
     "iopub.execute_input": "2022-01-22T15:56:51.581205Z",
     "iopub.status.busy": "2022-01-22T15:56:51.580712Z",
     "iopub.status.idle": "2022-01-22T15:56:51.589897Z",
     "shell.execute_reply": "2022-01-22T15:56:51.588931Z",
     "shell.execute_reply.started": "2022-01-22T15:56:51.581131Z"
    }
   },
   "outputs": [],
   "source": [
    "def compute_accuracy(model, data_loader, device):\n",
    "\n",
    "    with torch.no_grad():\n",
    "\n",
    "        correct_pred, num_examples = 0, 0\n",
    "\n",
    "        for i, (features, targets) in enumerate(data_loader):\n",
    "\n",
    "            features = features.to(device)\n",
    "            targets = targets.float().to(device)\n",
    "\n",
    "            logits = model(features)\n",
    "            _, predicted_labels = torch.max(logits, 1)\n",
    "\n",
    "            num_examples += targets.size(0)\n",
    "            correct_pred += (predicted_labels == targets).sum()\n",
    "    return correct_pred.float()/num_examples * 100"
   ]
  },
  {
   "cell_type": "markdown",
   "metadata": {},
   "source": [
    "# Model Run"
   ]
  },
  {
   "cell_type": "code",
   "execution_count": null,
   "metadata": {
    "execution": {
     "iopub.execute_input": "2022-01-22T15:56:51.596066Z",
     "iopub.status.busy": "2022-01-22T15:56:51.595269Z",
     "iopub.status.idle": "2022-01-22T16:41:22.979843Z",
     "shell.execute_reply": "2022-01-22T16:41:22.979001Z",
     "shell.execute_reply.started": "2022-01-22T15:56:51.596024Z"
    }
   },
   "outputs": [],
   "source": [
    "start_time = time.time()\n",
    "\n",
    "for epoch in range(NUM_EPOCHS):\n",
    "    model.train()\n",
    "    for batch_idx, batch_data in enumerate(train_loader):\n",
    "        \n",
    "        text = batch_data.TEXT_COLUMN_NAME.to(DEVICE)\n",
    "        labels = batch_data.LABEL_COLUMN_NAME.to(DEVICE)\n",
    "\n",
    "        ### FORWARD AND BACK PROP\n",
    "        \n",
    "        \n",
    "        \n",
    "        \n",
    "        ### UPDATE MODEL PARAMETERS\n",
    "        \n",
    "        \n",
    "        ### LOGGING\n",
    "        if not batch_idx % 50:\n",
    "            print (f'Epoch: {epoch+1:03d}/{NUM_EPOCHS:03d} | '\n",
    "                   f'Batch {batch_idx:03d}/{len(train_loader):03d} | '\n",
    "                   f'Loss: {loss:.4f}')\n",
    "\n",
    "    with torch.set_grad_enabled(False):\n",
    "        print(f'training accuracy: '\n",
    "              f'{compute_accuracy(model, train_loader, DEVICE):.2f}%'\n",
    "              f'\\nvalid accuracy: '\n",
    "              f'{compute_accuracy(model, valid_loader, DEVICE):.2f}%')\n",
    "        \n",
    "    print(f'Time elapsed: {(time.time() - start_time)/60:.2f} min')\n",
    "    \n",
    "print(f'Total Training Time: {(time.time() - start_time)/60:.2f} min')\n",
    "print(f'Test accuracy: {compute_accuracy(model, test_loader, DEVICE):.2f}%')"
   ]
  },
  {
   "cell_type": "markdown",
   "metadata": {},
   "source": [
    "# Model Testing"
   ]
  },
  {
   "cell_type": "code",
   "execution_count": null,
   "metadata": {
    "execution": {
     "iopub.execute_input": "2022-01-22T16:41:22.981494Z",
     "iopub.status.busy": "2022-01-22T16:41:22.981224Z",
     "iopub.status.idle": "2022-01-22T16:41:23.185798Z",
     "shell.execute_reply": "2022-01-22T16:41:23.185126Z",
     "shell.execute_reply.started": "2022-01-22T16:41:22.981459Z"
    }
   },
   "outputs": [],
   "source": [
    "import spacy\n",
    "\n",
    "\n",
    "nlp = spacy.blank(\"en\")\n",
    "\n",
    "def predict_sentiment(model, sentence):\n",
    "\n",
    "    model.eval()\n",
    "    tokenized = [tok.text for tok in nlp.tokenizer(sentence)]\n",
    "    indexed = [TEXT.vocab.stoi[t] for t in tokenized]\n",
    "    length = [len(indexed)]\n",
    "    tensor = torch.LongTensor(indexed).to(DEVICE)\n",
    "    tensor = tensor.unsqueeze(1)\n",
    "    length_tensor = torch.LongTensor(length)\n",
    "    prediction = torch.nn.functional.softmax(model(tensor), dim=1)\n",
    "    return prediction[0][1].item()\n",
    "\n",
    "print('Probability positive:')\n",
    "predict_sentiment(model, \"This is such an awesome movie, I really love it!\")"
   ]
  },
  {
   "cell_type": "code",
   "execution_count": null,
   "metadata": {
    "execution": {
     "iopub.execute_input": "2022-01-22T16:41:49.753493Z",
     "iopub.status.busy": "2022-01-22T16:41:49.752937Z",
     "iopub.status.idle": "2022-01-22T16:41:49.762087Z",
     "shell.execute_reply": "2022-01-22T16:41:49.761053Z",
     "shell.execute_reply.started": "2022-01-22T16:41:49.753453Z"
    }
   },
   "outputs": [],
   "source": [
    "print('Probability positive:')\n",
    "predict_sentiment(model, \"I really hate this movie. It is really bad and sucks!\")"
   ]
  },
  {
   "cell_type": "code",
   "execution_count": null,
   "metadata": {},
   "outputs": [],
   "source": []
  }
 ],
 "metadata": {
  "kernelspec": {
   "display_name": "Python 3",
   "language": "python",
   "name": "python3"
  },
  "language_info": {
   "codemirror_mode": {
    "name": "ipython",
    "version": 3
   },
   "file_extension": ".py",
   "mimetype": "text/x-python",
   "name": "python",
   "nbconvert_exporter": "python",
   "pygments_lexer": "ipython3",
   "version": "3.8.8"
  }
 },
 "nbformat": 4,
 "nbformat_minor": 4
}
